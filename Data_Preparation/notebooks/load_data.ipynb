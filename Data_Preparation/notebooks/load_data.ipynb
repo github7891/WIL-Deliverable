{
 "cells": [
  {
   "cell_type": "code",
   "execution_count": 28,
   "metadata": {},
   "outputs": [],
   "source": [
    "import pandas as pd\n",
    "import matplotlib.pyplot as plt"
   ]
  },
  {
   "cell_type": "code",
   "execution_count": 29,
   "metadata": {},
   "outputs": [
    {
     "data": {
      "text/html": [
       "<div>\n",
       "<style scoped>\n",
       "    .dataframe tbody tr th:only-of-type {\n",
       "        vertical-align: middle;\n",
       "    }\n",
       "\n",
       "    .dataframe tbody tr th {\n",
       "        vertical-align: top;\n",
       "    }\n",
       "\n",
       "    .dataframe thead th {\n",
       "        text-align: right;\n",
       "    }\n",
       "</style>\n",
       "<table border=\"1\" class=\"dataframe\">\n",
       "  <thead>\n",
       "    <tr style=\"text-align: right;\">\n",
       "      <th></th>\n",
       "      <th>gender</th>\n",
       "      <th>SeniorCitizen</th>\n",
       "      <th>Dependents</th>\n",
       "      <th>tenure</th>\n",
       "      <th>PhoneService</th>\n",
       "      <th>MultipleLines</th>\n",
       "      <th>InternetService</th>\n",
       "      <th>Contract</th>\n",
       "      <th>MonthlyCharges</th>\n",
       "      <th>Churn</th>\n",
       "    </tr>\n",
       "  </thead>\n",
       "  <tbody>\n",
       "    <tr>\n",
       "      <th>0</th>\n",
       "      <td>Female</td>\n",
       "      <td>0</td>\n",
       "      <td>No</td>\n",
       "      <td>1</td>\n",
       "      <td>No</td>\n",
       "      <td>No</td>\n",
       "      <td>DSL</td>\n",
       "      <td>Month-to-month</td>\n",
       "      <td>25</td>\n",
       "      <td>Yes</td>\n",
       "    </tr>\n",
       "    <tr>\n",
       "      <th>1</th>\n",
       "      <td>Male</td>\n",
       "      <td>0</td>\n",
       "      <td>No</td>\n",
       "      <td>41</td>\n",
       "      <td>Yes</td>\n",
       "      <td>No</td>\n",
       "      <td>DSL</td>\n",
       "      <td>One year</td>\n",
       "      <td>25</td>\n",
       "      <td>No</td>\n",
       "    </tr>\n",
       "    <tr>\n",
       "      <th>2</th>\n",
       "      <td>Female</td>\n",
       "      <td>0</td>\n",
       "      <td>Yes</td>\n",
       "      <td>52</td>\n",
       "      <td>Yes</td>\n",
       "      <td>No</td>\n",
       "      <td>DSL</td>\n",
       "      <td>Month-to-month</td>\n",
       "      <td>19</td>\n",
       "      <td>No</td>\n",
       "    </tr>\n",
       "    <tr>\n",
       "      <th>3</th>\n",
       "      <td>Female</td>\n",
       "      <td>0</td>\n",
       "      <td>No</td>\n",
       "      <td>1</td>\n",
       "      <td>Yes</td>\n",
       "      <td>No</td>\n",
       "      <td>DSL</td>\n",
       "      <td>One year</td>\n",
       "      <td>76</td>\n",
       "      <td>Yes</td>\n",
       "    </tr>\n",
       "    <tr>\n",
       "      <th>4</th>\n",
       "      <td>Male</td>\n",
       "      <td>0</td>\n",
       "      <td>No</td>\n",
       "      <td>67</td>\n",
       "      <td>Yes</td>\n",
       "      <td>No</td>\n",
       "      <td>Fiber optic</td>\n",
       "      <td>Month-to-month</td>\n",
       "      <td>51</td>\n",
       "      <td>No</td>\n",
       "    </tr>\n",
       "  </tbody>\n",
       "</table>\n",
       "</div>"
      ],
      "text/plain": [
       "   gender  SeniorCitizen Dependents  tenure PhoneService MultipleLines  \\\n",
       "0  Female              0         No       1           No            No   \n",
       "1    Male              0         No      41          Yes            No   \n",
       "2  Female              0        Yes      52          Yes            No   \n",
       "3  Female              0         No       1          Yes            No   \n",
       "4    Male              0         No      67          Yes            No   \n",
       "\n",
       "  InternetService        Contract  MonthlyCharges Churn  \n",
       "0             DSL  Month-to-month              25   Yes  \n",
       "1             DSL        One year              25    No  \n",
       "2             DSL  Month-to-month              19    No  \n",
       "3             DSL        One year              76   Yes  \n",
       "4     Fiber optic  Month-to-month              51    No  "
      ]
     },
     "execution_count": 29,
     "metadata": {},
     "output_type": "execute_result"
    }
   ],
   "source": [
    "#  Load data\n",
    "df = pd.read_csv('../data/raw/Dataset_ATS_v2.csv') \n",
    "df.head()"
   ]
  },
  {
   "cell_type": "code",
   "execution_count": 30,
   "metadata": {},
   "outputs": [
    {
     "name": "stdout",
     "output_type": "stream",
     "text": [
      "Dataset size: 7043 rows × 10 columns\n"
     ]
    }
   ],
   "source": [
    "#  Dataset size\n",
    "df_rows, df_cols = df.shape\n",
    "print(f'Dataset size: {df_rows} rows × {df_cols} columns')"
   ]
  },
  {
   "cell_type": "code",
   "execution_count": 31,
   "metadata": {},
   "outputs": [
    {
     "name": "stdout",
     "output_type": "stream",
     "text": [
      "gender             object\n",
      "SeniorCitizen       int64\n",
      "Dependents         object\n",
      "tenure              int64\n",
      "PhoneService       object\n",
      "MultipleLines      object\n",
      "InternetService    object\n",
      "Contract           object\n",
      "MonthlyCharges      int64\n",
      "Churn              object\n",
      "dtype: object\n"
     ]
    }
   ],
   "source": [
    "# Data types\n",
    "print(df.dtypes)"
   ]
  },
  {
   "cell_type": "code",
   "execution_count": 32,
   "metadata": {},
   "outputs": [
    {
     "name": "stdout",
     "output_type": "stream",
     "text": [
      "\n",
      "Summary statistics for numerical features:\n",
      "                     mean  median        std   min    max\n",
      "SeniorCitizen    0.162147     0.0   0.368612   0.0    1.0\n",
      "tenure          32.371149    29.0  24.559481   0.0   72.0\n",
      "MonthlyCharges  64.758768    70.0  30.091650  18.0  119.0\n"
     ]
    }
   ],
   "source": [
    "# Summary statistics for numerical features\n",
    "numeric_cols = df.select_dtypes(include=['number']).columns\n",
    "print('\\nSummary statistics for numerical features:')\n",
    "print(\n",
    "    df[numeric_cols]\n",
    "      .describe()\n",
    "      .T[['mean', '50%', 'std', 'min', 'max']]\n",
    "      .rename(columns={'50%': 'median'})\n",
    ")"
   ]
  },
  {
   "cell_type": "code",
   "execution_count": 33,
   "metadata": {},
   "outputs": [
    {
     "name": "stdout",
     "output_type": "stream",
     "text": [
      "\n",
      "Count of unique values for each categorical attribute:\n",
      "gender             2\n",
      "Dependents         2\n",
      "PhoneService       2\n",
      "MultipleLines      2\n",
      "InternetService    2\n",
      "Contract           3\n",
      "Churn              2\n",
      "dtype: int64\n"
     ]
    }
   ],
   "source": [
    "# Count of unique values for each categorical attribute\n",
    "cat_cols = df.select_dtypes(include=['object', 'category']).columns\n",
    "print('\\nCount of unique values for each categorical attribute:')\n",
    "print(df[cat_cols].nunique())"
   ]
  },
  {
   "cell_type": "code",
   "execution_count": 34,
   "metadata": {},
   "outputs": [
    {
     "name": "stdout",
     "output_type": "stream",
     "text": [
      "\n",
      "Frequent values for categorical variables:\n",
      "\n",
      "gender:\n",
      "gender\n",
      "Male      3555\n",
      "Female    3488\n",
      "Name: count, dtype: int64\n",
      "\n",
      "Dependents:\n",
      "Dependents\n",
      "No     4933\n",
      "Yes    2110\n",
      "Name: count, dtype: int64\n",
      "\n",
      "PhoneService:\n",
      "PhoneService\n",
      "Yes    6361\n",
      "No      682\n",
      "Name: count, dtype: int64\n",
      "\n",
      "MultipleLines:\n",
      "MultipleLines\n",
      "No     4072\n",
      "Yes    2971\n",
      "Name: count, dtype: int64\n",
      "\n",
      "InternetService:\n",
      "InternetService\n",
      "DSL            3947\n",
      "Fiber optic    3096\n",
      "Name: count, dtype: int64\n",
      "\n",
      "Contract:\n",
      "Contract\n",
      "Month-to-month    3875\n",
      "Two year          1695\n",
      "One year          1473\n",
      "Name: count, dtype: int64\n",
      "\n",
      "Churn:\n",
      "Churn\n",
      "No     5174\n",
      "Yes    1869\n",
      "Name: count, dtype: int64\n"
     ]
    }
   ],
   "source": [
    "# Frequent values for categorical variables\n",
    "print('\\nFrequent values for categorical variables:')\n",
    "for col in cat_cols:\n",
    "    print(f'\\n{col}:')\n",
    "    print(df[col].value_counts().head(3))"
   ]
  },
  {
   "cell_type": "code",
   "execution_count": 35,
   "metadata": {},
   "outputs": [
    {
     "name": "stdout",
     "output_type": "stream",
     "text": [
      "Identify duplicate rows in the dataset: 302\n",
      "    gender  SeniorCitizen Dependents  tenure PhoneService MultipleLines  \\\n",
      "78    Male              0         No       1          Yes            No   \n",
      "97    Male              0         No       1          Yes            No   \n",
      "352   Male              0         No       1          Yes            No   \n",
      "398   Male              0         No       1          Yes            No   \n",
      "402   Male              0         No       1          Yes           Yes   \n",
      "\n",
      "    InternetService        Contract  MonthlyCharges Churn  \n",
      "78              DSL  Month-to-month              20    No  \n",
      "97              DSL  Month-to-month              20    No  \n",
      "352     Fiber optic  Month-to-month              20    No  \n",
      "398             DSL  Month-to-month              20    No  \n",
      "402     Fiber optic  Month-to-month              20   Yes  \n"
     ]
    }
   ],
   "source": [
    "# Identify duplicate rows in the dataset\n",
    "dup_rows_count = df.duplicated().sum()\n",
    "print(f'Identify duplicate rows in the dataset: {dup_rows_count}')\n",
    "\n",
    "\n",
    "print(df[df.duplicated()].head())"
   ]
  },
  {
   "cell_type": "code",
   "execution_count": 36,
   "metadata": {},
   "outputs": [
    {
     "name": "stdout",
     "output_type": "stream",
     "text": [
      "\n",
      "Frequency of duplicated values in each attribute:\n",
      "                 duplicate_count\n",
      "gender                      7041\n",
      "SeniorCitizen               7041\n",
      "Dependents                  7041\n",
      "tenure                      6970\n",
      "PhoneService                7041\n",
      "MultipleLines               7041\n",
      "InternetService             7041\n",
      "Contract                    7040\n",
      "MonthlyCharges              6942\n",
      "Churn                       7041\n"
     ]
    }
   ],
   "source": [
    "# Frequency of duplicated values in each attribute\n",
    "dup_counts = df.apply(lambda col: col.duplicated().sum()) \\\n",
    "               .rename('duplicate_count') \\\n",
    "               .to_frame()\n",
    "print('\\nFrequency of duplicated values in each attribute:')\n",
    "print(dup_counts)"
   ]
  },
  {
   "cell_type": "code",
   "execution_count": 37,
   "metadata": {},
   "outputs": [
    {
     "name": "stdout",
     "output_type": "stream",
     "text": [
      "\n",
      "Candidate primary key columns:\n",
      "[]\n"
     ]
    }
   ],
   "source": [
    "# Candidate primary key columns\n",
    "candidate_keys = dup_counts[dup_counts['duplicate_count'] == 0].index\n",
    "candidate_keys = [col for col in candidate_keys if df[col].isna().sum() == 0]\n",
    "print('\\nCandidate primary key columns:')\n",
    "print(candidate_keys)"
   ]
  }
 ],
 "metadata": {
  "kernelspec": {
   "display_name": "Python 3",
   "language": "python",
   "name": "python3"
  },
  "language_info": {
   "codemirror_mode": {
    "name": "ipython",
    "version": 3
   },
   "file_extension": ".py",
   "mimetype": "text/x-python",
   "name": "python",
   "nbconvert_exporter": "python",
   "pygments_lexer": "ipython3",
   "version": "3.11.9"
  }
 },
 "nbformat": 4,
 "nbformat_minor": 2
}
